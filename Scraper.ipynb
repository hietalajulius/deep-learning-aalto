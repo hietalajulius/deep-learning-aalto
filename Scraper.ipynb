{
 "cells": [
  {
   "cell_type": "code",
   "execution_count": 1,
   "metadata": {},
   "outputs": [],
   "source": [
    "from selenium import webdriver\n",
    "from selenium.webdriver.common.by import By\n",
    "from selenium.webdriver.common.keys import Keys\n",
    "import time\n",
    "import numpy as np\n",
    "import pandas as pd"
   ]
  },
  {
   "cell_type": "code",
   "execution_count": 2,
   "metadata": {},
   "outputs": [],
   "source": [
    "#LOGIN\n",
    "browser = webdriver.Chrome(executable_path=\"./chromedriver\")\n",
    "browser.get('https://deep-learning-aalto.slack.com/messages/DGG0W86PR/')\n",
    "username = browser.find_element_by_id('email')\n",
    "username.send_keys('julius.hietala@aalto.fi')\n",
    "time.sleep(1) \n",
    "username = browser.find_element_by_id('password')\n",
    "username.send_keys('easyaccess')\n",
    "username.submit()\n"
   ]
  },
  {
   "cell_type": "code",
   "execution_count": 77,
   "metadata": {},
   "outputs": [],
   "source": [
    "#FIND CHANNELS \n",
    "time.sleep(5) \n",
    "channels = browser.find_elements_by_class_name('p-channel_sidebar__name')\n",
    "for channel in channels[1:13]:\n",
    "    channel.click()\n",
    "    time.sleep(5)\n",
    "    messagefield = browser.find_element_by_id('messages_container').click()\n",
    "    time.sleep(1)\n",
    "    messages = []\n",
    "    thread_messages = []\n",
    "    time.sleep(1)\n",
    "    browser.execute_script(\"document.getElementsByClassName('c-scrollbar__hider')[1].scrollTo(0,0);\")\n",
    "    time.sleep(3)\n",
    "    browser.execute_script(\"document.getElementsByClassName('c-scrollbar__hider')[1].scrollTo(0,0);\")\n",
    "    time.sleep(3)\n",
    "    browser.execute_script(\"document.getElementsByClassName('c-scrollbar__hider')[1].scrollTo(0,0);\")\n",
    "    time.sleep(3)\n",
    "    browser.execute_script(\"document.getElementsByClassName('c-scrollbar__hider')[1].scrollTo(0,0);\")\n",
    "    time.sleep(3)\n",
    "    iters = 0\n",
    "\n",
    "    while iters < 50:\n",
    "        iters = iters + 1    \n",
    "        hits = browser.find_elements_by_class_name('c-message__body')\n",
    "        for i in hits:\n",
    "            try:\n",
    "                messages.append(i.text)\n",
    "            except:\n",
    "                print(\"*\")\n",
    "        browser.execute_script(\"arguments[0].scrollIntoView();\", hits[-1])\n",
    "\n",
    "    browser.execute_script(\"document.getElementsByClassName('c-scrollbar__hider')[1].scrollTo(0,0);\")\n",
    "    time.sleep(3)\n",
    "\n",
    "    unique_threads = []\n",
    "\n",
    "    iters = 0\n",
    "    while iters < 40:\n",
    "        iters = iters + 1\n",
    "\n",
    "        threads = browser.find_elements_by_class_name('c-message__reply_count')\n",
    "        if threads:\n",
    "            for thread in threads:\n",
    "                if thread not in unique_threads:\n",
    "                    unique_threads.append(thread)\n",
    "                    try:\n",
    "                        browser.execute_script(\"arguments[0].scrollIntoView();\", thread)\n",
    "                        time.sleep(1)\n",
    "                        thread.click()\n",
    "                    except:\n",
    "                        break\n",
    "                    time.sleep(2)\n",
    "                    iters_2 = 0\n",
    "                    while iters_2 < 20:\n",
    "                        iters_2 = iters_2 + 1\n",
    "                        thread_hits = browser.find_elements_by_class_name('c-message_kit__text')\n",
    "                        for i in thread_hits:\n",
    "                            try:\n",
    "                                thread_messages.append(i.text)\n",
    "                                browser.execute_script(\"arguments[0].scrollIntoView();\", thread_hits[-1])\n",
    "                            except:\n",
    "                                print(\"*_\")\n",
    "                    time.sleep(1)\n",
    "        try:\n",
    "            browser.execute_script(\"arguments[0].scrollIntoView();\", threads[-1])\n",
    "        except:\n",
    "            browser.execute_script(\"document.getElementsByClassName('c-scrollbar__hider')[1].scrollBy(0,200);\")\n",
    "\n",
    "\n",
    "\n",
    "    df = pd.DataFrame(data=np.unique(thread_messages))\n",
    "    export_csv = df.to_csv(channel.text+'_thread.csv', index = None)\n",
    "\n",
    "    df = pd.DataFrame(data=np.unique(messages))\n",
    "    export_csv = df.to_csv(channel.text+'.csv', index = None)\n",
    "\n"
   ]
  },
  {
   "cell_type": "code",
   "execution_count": null,
   "metadata": {},
   "outputs": [],
   "source": []
  },
  {
   "cell_type": "code",
   "execution_count": null,
   "metadata": {},
   "outputs": [],
   "source": []
  },
  {
   "cell_type": "code",
   "execution_count": 60,
   "metadata": {},
   "outputs": [],
   "source": []
  },
  {
   "cell_type": "code",
   "execution_count": null,
   "metadata": {},
   "outputs": [],
   "source": []
  },
  {
   "cell_type": "code",
   "execution_count": null,
   "metadata": {},
   "outputs": [],
   "source": []
  },
  {
   "cell_type": "code",
   "execution_count": null,
   "metadata": {},
   "outputs": [],
   "source": []
  },
  {
   "cell_type": "code",
   "execution_count": null,
   "metadata": {},
   "outputs": [],
   "source": []
  }
 ],
 "metadata": {
  "kernelspec": {
   "display_name": "Python 3",
   "language": "python",
   "name": "python3"
  },
  "language_info": {
   "codemirror_mode": {
    "name": "ipython",
    "version": 3
   },
   "file_extension": ".py",
   "mimetype": "text/x-python",
   "name": "python",
   "nbconvert_exporter": "python",
   "pygments_lexer": "ipython3",
   "version": "3.6.5"
  }
 },
 "nbformat": 4,
 "nbformat_minor": 2
}
