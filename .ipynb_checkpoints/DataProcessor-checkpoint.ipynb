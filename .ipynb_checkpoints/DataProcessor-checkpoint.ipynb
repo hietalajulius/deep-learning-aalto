{
 "cells": [
  {
   "cell_type": "code",
   "execution_count": 5,
   "metadata": {},
   "outputs": [],
   "source": [
    "import numpy as np\n",
    "import pandas as pd\n",
    "import matplotlib.pyplot as plt\n",
    "import re\n",
    "%matplotlib inline\n",
    "from sklearn.model_selection import train_test_split\n",
    "\n",
    "\n",
    "from collections import Counter\n",
    "import spacy\n",
    "from tqdm.auto import tqdm\n",
    "tqdm.pandas(desc='Progress')"
   ]
  },
  {
   "cell_type": "markdown",
   "metadata": {},
   "source": [
    "## Helper functions"
   ]
  },
  {
   "cell_type": "code",
   "execution_count": null,
   "metadata": {},
   "outputs": [],
   "source": [
    "def indices_func(sentence):\n",
    "    indices = [2]\n",
    "    for word in nlp(cleanString(sentence)):\n",
    "        try:\n",
    "            indices.append(word_index[word.text.lower()])\n",
    "        except:\n",
    "            indices.append(1)\n",
    "            \n",
    "    indices.append(3)\n",
    "    return indices\n",
    "\n",
    "def cleanString(s):\n",
    "    s = s.lower().strip()\n",
    "    s = re.sub(r\"([.!?])\", r\" \\1\", s)\n",
    "    s = re.sub(r\"[^a-zA-Z.!?]+\", r\" \", s)\n",
    "    return s\n",
    "\n",
    "def replace(x):\n",
    "    if (x==4): \n",
    "        return 1 \n",
    "    else: \n",
    "        return x"
   ]
  },
  {
   "cell_type": "markdown",
   "metadata": {},
   "source": [
    "## Process data and save to file"
   ]
  },
  {
   "cell_type": "code",
   "execution_count": 6,
   "metadata": {},
   "outputs": [
    {
     "data": {
      "application/vnd.jupyter.widget-view+json": {
       "model_id": "cabf076e495e417991130aca587d835c",
       "version_major": 2,
       "version_minor": 0
      },
      "text/plain": [
       "HBox(children=(IntProgress(value=0, description='Progress', max=1600000, style=ProgressStyle(description_width…"
      ]
     },
     "metadata": {},
     "output_type": "display_data"
    },
    {
     "name": "stdout",
     "output_type": "stream",
     "text": [
      "\n"
     ]
    }
   ],
   "source": [
    "data = pd.read_csv(\"data/large/train.csv\",encoding = \"ISO-8859-1\",names=[\"target\",\"id\",\"date\",\"flag\",\"user\",\"text\"])\n",
    "data['text'] = data.text.progress_apply(lambda x: x.strip())\n",
    "data_vals = data.values\n",
    "\n",
    "nlp = spacy.load('en',disable=['parser', 'tagger', 'ner'])\n",
    "sentences = data_vals[:,5]\n",
    "\n",
    "words = Counter()\n",
    "for sentence in tqdm(sentences):\n",
    "    try:\n",
    "        words.update(word.text.lower() for word in nlp(cleanString(sentence)))\n",
    "    except:\n",
    "        break\n",
    "        \n",
    "words = sorted(words, key=words.get, reverse=True)\n",
    "words = ['PAD','CTX','SOS','EOS'] + words\n",
    "\n",
    "word_df = pd.DataFrame(words)\n",
    "word_df = word_df[:20000] #Limit to 20k most common words\n",
    "word_df.to_csv(\"data/words.csv\")"
   ]
  },
  {
   "cell_type": "markdown",
   "metadata": {},
   "source": [
    "## Read data from csv and tokenize"
   ]
  },
  {
   "cell_type": "code",
   "execution_count": 8,
   "metadata": {},
   "outputs": [],
   "source": [
    "word_df = pd.read_csv(\"data/words.csv\",squeeze=True)\n",
    "index_word = {x:y for x,y in enumerate(word_df[\"0\"])}\n",
    "word_index = {y:x for x,y in enumerate(word_df[\"0\"])}\n",
    "data['indices'] = data.text.progress_apply(indices_func)\n",
    "data['length'] = data.indices.progress_apply(len)\n",
    "data['target'] = data.target.progress_apply(replace)"
   ]
  },
  {
   "cell_type": "markdown",
   "metadata": {},
   "source": [
    "## Show data distribution"
   ]
  },
  {
   "cell_type": "code",
   "execution_count": 35,
   "metadata": {},
   "outputs": [
    {
     "name": "stdout",
     "output_type": "stream",
     "text": [
      "Max data length 120\n",
      "Distribution:\n"
     ]
    },
    {
     "data": {
      "image/png": "[encoded data removed]",
      "text/plain": [
       "<Figure size 432x288 with 1 Axes>"
      ]
     },
     "metadata": {},
     "output_type": "display_data"
    }
   ],
   "source": [
    "print(\"Max data length\",data.length.values.max())\n",
    "print(\"Distribution:\")\n",
    "plt.hist(data.length.values)\n",
    "plt.show();\n"
   ]
  },
  {
   "cell_type": "markdown",
   "metadata": {},
   "source": [
    "## Save word index and processed data into a file"
   ]
  },
  {
   "cell_type": "code",
   "execution_count": 36,
   "metadata": {},
   "outputs": [],
   "source": [
    "dfind = pd.DataFrame.from_dict(index_word,orient=\"index\")"
   ]
  },
  {
   "cell_type": "code",
   "execution_count": 37,
   "metadata": {},
   "outputs": [],
   "source": [
    "dfind.to_csv(\"data/word_index.csv\")\n",
    "data.to_csv(\"data/large/processed.csv\")"
   ]
  },
  {
   "cell_type": "markdown",
   "metadata": {},
   "source": [
    "## Split data into train and test"
   ]
  },
  {
   "cell_type": "code",
   "execution_count": 11,
   "metadata": {},
   "outputs": [],
   "source": [
    "processed = pd.read_csv(\"data/large/processed.csv\",squeeze=True)\n",
    "train, test = train_test_split(processed, test_size=0.2, random_state=1, shuffle=True)"
   ]
  },
  {
   "cell_type": "code",
   "execution_count": 14,
   "metadata": {},
   "outputs": [],
   "source": [
    "train.to_csv(\"data/large/processed_train.csv\")\n",
    "test.to_csv(\"data/large/processed_test.csv\")"
   ]
  },
  {
   "cell_type": "code",
   "execution_count": null,
   "metadata": {},
   "outputs": [],
   "source": []
  }
 ],
 "metadata": {
  "kernelspec": {
   "display_name": "Python 3",
   "language": "python",
   "name": "python3"
  },
  "language_info": {
   "codemirror_mode": {
    "name": "ipython",
    "version": 3
   },
   "file_extension": ".py",
   "mimetype": "text/x-python",
   "name": "python",
   "nbconvert_exporter": "python",
   "pygments_lexer": "ipython3",
   "version": "3.6.7"
  }
 },
 "nbformat": 4,
 "nbformat_minor": 2
}
