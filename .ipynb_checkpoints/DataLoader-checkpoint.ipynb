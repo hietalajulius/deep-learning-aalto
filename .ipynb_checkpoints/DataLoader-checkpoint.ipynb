{
 "cells": [
  {
   "cell_type": "code",
   "execution_count": 51,
   "metadata": {},
   "outputs": [],
   "source": [
    "import torch\n",
    "from torch.utils.data import Dataset, DataLoader\n",
    "import torch.nn as nn\n",
    "import torch.optim as optim\n",
    "import torch.nn.functional as F\n",
    "from torch.nn.utils.rnn import pack_padded_sequence, pad_packed_sequence\n",
    "import pandas as pd\n",
    "\n",
    "from ast import literal_eval\n",
    "\n",
    "device = torch.device('cpu')"
   ]
  },
  {
   "cell_type": "code",
   "execution_count": 67,
   "metadata": {},
   "outputs": [],
   "source": [
    "path_to_processed = \"data/large/dymmy.csv\" \n",
    "\n",
    "class CustomDataset(Dataset):\n",
    "    def __init__(self,path):\n",
    "        self.data = pd.read_csv(path)\n",
    "        \n",
    "    def __len__(self):\n",
    "        return self.data.shape[0]\n",
    "    \n",
    "    def __getitem__(self, idx):\n",
    "        X = tensorFromIndices(self.data.indices[idx])\n",
    "        y = self.data.targets[idx]\n",
    "        return X,y\n",
    "    \n",
    "\n",
    "def tensorFromIndices(indices):\n",
    "    split = literal_eval(indices)\n",
    "    return torch.tensor(split, dtype=torch.long).view(-1, 1)\n",
    "\n",
    "trainset = CustomDataset(path_to_processed)"
   ]
  },
  {
   "cell_type": "code",
   "execution_count": 68,
   "metadata": {},
   "outputs": [],
   "source": [
    "from torch.nn.utils.rnn import pad_sequence\n",
    "\n",
    "def customCollate(list_of_samples):\n",
    "\n",
    "    list_of_samples.sort(key=lambda x: len(x[0]), reverse=True)\n",
    "    input_seqs,targets = list(zip(*list_of_samples))\n",
    "    input_seq_lengths = [len(seq) for seq in input_seqs]\n",
    "    targets = torch.tensor([tar for tar in targets])\n",
    "    target_lengths = [1 for tar in targets]\n",
    "    padding_value = 0\n",
    "    \n",
    "    pad_input_seqs = pad_sequence(input_seqs, batch_first=False, padding_value=padding_value)\n",
    "\n",
    "    return pad_input_seqs, input_seq_lengths, targets, target_lengths"
   ]
  },
  {
   "cell_type": "code",
   "execution_count": 69,
   "metadata": {},
   "outputs": [],
   "source": [
    "trainloader = DataLoader(dataset=trainset,\n",
    "                         batch_size=2,\n",
    "                         shuffle=True,\n",
    "                         collate_fn=customCollate,\n",
    "                         pin_memory=True)\n"
   ]
  },
  {
   "cell_type": "code",
   "execution_count": 70,
   "metadata": {},
   "outputs": [
    {
     "name": "stdout",
     "output_type": "stream",
     "text": [
      "a tensor([[[9],\n",
      "         [1]],\n",
      "\n",
      "        [[3],\n",
      "         [2]],\n",
      "\n",
      "        [[4],\n",
      "         [3]],\n",
      "\n",
      "        [[3],\n",
      "         [4]],\n",
      "\n",
      "        [[3],\n",
      "         [0]],\n",
      "\n",
      "        [[5],\n",
      "         [0]],\n",
      "\n",
      "        [[6],\n",
      "         [0]]])\n",
      "\n",
      "\n",
      "b [7, 4]\n",
      "\n",
      "\n",
      "c tensor([0, 1])\n",
      "\n",
      "\n",
      "d [1, 1]\n",
      "\n",
      "\n",
      "Total samples 3\n"
     ]
    }
   ],
   "source": [
    "it = iter(trainloader)\n",
    "a,b,c,d = next(it)\n",
    "print(\"a\",a)\n",
    "print(\"\\n\")\n",
    "\n",
    "print(\"b\",b)\n",
    "print(\"\\n\")\n",
    "\n",
    "print(\"c\",c)\n",
    "print(\"\\n\")\n",
    "\n",
    "print(\"d\",d)\n",
    "print(\"\\n\")\n",
    "\n",
    "print('Total samples', len(trainloader))\n"
   ]
  },
  {
   "cell_type": "code",
   "execution_count": 116,
   "metadata": {},
   "outputs": [],
   "source": [
    "class Encoder(nn.Module):\n",
    "    def __init__(self, dictionary_size, hidden_size):\n",
    "        super(Encoder, self).__init__()\n",
    "        self.hidden_size = hidden_size\n",
    "        self.embedding = nn.Embedding(dictionary_size, hidden_size)\n",
    "        self.gru = nn.GRU(hidden_size, hidden_size)\n",
    "        self.lstm = nn.LSTM(hidden_size, hidden_size)\n",
    "        self.linear = nn.Linear(hidden_size,2)\n",
    "\n",
    "    def forward(self, pad_seqs, seq_lengths, hidden):\n",
    "        \"\"\"\n",
    "        Args:\n",
    "          pad_seqs: Tensor [max_seq_length, batch_size, 1]\n",
    "          seq_lengths: list of sequence lengths\n",
    "          hidden: Tensor [1, batch_size, hidden_size]\n",
    "\n",
    "        Returns:\n",
    "          outputs: Tensor [max_seq_length, batch_size, hidden_size]\n",
    "          hidden: Tensor [1, batch_size, hidden_size]\n",
    "        \"\"\"\n",
    "        # YOUR CODE HERE\n",
    "\n",
    "        embedded = self.embedding(pad_seqs).view(pad_seqs.shape[0], pad_seqs.shape[1], -1)\n",
    "\n",
    "        packed = pack_padded_sequence(embedded, seq_lengths, batch_first = False)\n",
    "\n",
    "        \n",
    "        outputs = packed\n",
    "\n",
    "\n",
    "        outputs, hidden = self.gru(outputs, hidden)\n",
    "        \n",
    "        padded = pad_packed_sequence(outputs, batch_first=False, padding_value=0.0)\n",
    "\n",
    "        \n",
    "        \n",
    "        hidden_out = self.linear(hidden)\n",
    "        return padded, hidden_out\n",
    "\n",
    "    def init_hidden(self, batch_size=1, device=device):\n",
    "        return torch.zeros(1, batch_size, self.hidden_size, device=device)"
   ]
  },
  {
   "cell_type": "code",
   "execution_count": 117,
   "metadata": {},
   "outputs": [],
   "source": [
    "hidden_size = 10\n",
    "encoder = Encoder(10, hidden_size).to(device)"
   ]
  },
  {
   "cell_type": "code",
   "execution_count": 118,
   "metadata": {},
   "outputs": [],
   "source": [
    "encoder_optimizer = optim.Adam(encoder.parameters(), lr=0.005)"
   ]
  },
  {
   "cell_type": "code",
   "execution_count": 119,
   "metadata": {},
   "outputs": [
    {
     "name": "stdout",
     "output_type": "stream",
     "text": [
      "tensor([[[-0.1225,  0.2526],\n",
      "         [-0.2205,  0.0687]]], grad_fn=<AddBackward0>)\n",
      "tensor([[[-0.1099,  0.2419],\n",
      "         [-0.3460,  0.0618]]], grad_fn=<AddBackward0>)\n",
      "tensor([[[-0.2259,  0.1202],\n",
      "         [-0.2710,  0.3205]]], grad_fn=<AddBackward0>)\n"
     ]
    }
   ],
   "source": [
    "for i, batch in enumerate(trainloader):\n",
    "    pad_input_seqs, input_seq_lengths, pad_target_seqs, target_seq_lengths = batch\n",
    "    batch_size = pad_input_seqs.size(1)\n",
    "    pad_input_seqs, pad_target_seqs = pad_input_seqs.to(device), pad_target_seqs.to(device)\n",
    "\n",
    "    encoder_hidden = encoder.init_hidden(batch_size, device)\n",
    "    \n",
    "    _, encoder_hidden = encoder(pad_input_seqs, input_seq_lengths, encoder_hidden)\n",
    "    print(encoder_hidden)"
   ]
  },
  {
   "cell_type": "code",
   "execution_count": null,
   "metadata": {},
   "outputs": [],
   "source": []
  },
  {
   "cell_type": "code",
   "execution_count": null,
   "metadata": {},
   "outputs": [],
   "source": []
  }
 ],
 "metadata": {
  "kernelspec": {
   "display_name": "Python 3",
   "language": "python",
   "name": "python3"
  },
  "language_info": {
   "codemirror_mode": {
    "name": "ipython",
    "version": 3
   },
   "file_extension": ".py",
   "mimetype": "text/x-python",
   "name": "python",
   "nbconvert_exporter": "python",
   "pygments_lexer": "ipython3",
   "version": "3.6.7"
  }
 },
 "nbformat": 4,
 "nbformat_minor": 2
}
